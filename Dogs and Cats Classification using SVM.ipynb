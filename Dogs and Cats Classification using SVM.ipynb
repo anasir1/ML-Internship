{
 "cells": [
  {
   "cell_type": "markdown",
   "id": "cd62f857",
   "metadata": {},
   "source": [
    "### Implemente a support vector machine (SVM) for image classification."
   ]
  },
  {
   "cell_type": "code",
   "execution_count": 3,
   "id": "0ea89639",
   "metadata": {},
   "outputs": [
    {
     "name": "stdout",
     "output_type": "stream",
     "text": [
      "Requirement already satisfied: scikit-learn in c:\\users\\ayesha\\anaconda3\\lib\\site-packages (1.1.3)\n",
      "Requirement already satisfied: joblib>=1.0.0 in c:\\users\\ayesha\\anaconda3\\lib\\site-packages (from scikit-learn) (1.1.0)\n",
      "Requirement already satisfied: threadpoolctl>=2.0.0 in c:\\users\\ayesha\\anaconda3\\lib\\site-packages (from scikit-learn) (2.2.0)\n",
      "Requirement already satisfied: scipy>=1.3.2 in c:\\users\\ayesha\\anaconda3\\lib\\site-packages (from scikit-learn) (1.8.0)\n",
      "Requirement already satisfied: numpy>=1.17.3 in c:\\users\\ayesha\\anaconda3\\lib\\site-packages (from scikit-learn) (1.22.4)\n",
      "Requirement already satisfied: opencv-python in c:\\users\\ayesha\\anaconda3\\lib\\site-packages (4.5.5.64)\n",
      "Requirement already satisfied: numpy>=1.19.3 in c:\\users\\ayesha\\anaconda3\\lib\\site-packages (from opencv-python) (1.22.4)\n"
     ]
    }
   ],
   "source": [
    "# Install necessary libraries\n",
    "!pip install scikit-learn\n",
    "!pip install opencv-python\n",
    "\n",
    "import os\n",
    "import cv2\n",
    "import numpy as np\n",
    "from sklearn.model_selection import train_test_split\n",
    "from sklearn.svm import SVC\n",
    "from sklearn.metrics import accuracy_score\n",
    "\n",
    "import matplotlib.pyplot as plt\n",
    "import seaborn as sns\n",
    "from sklearn.metrics import accuracy_score, confusion_matrix"
   ]
  },
  {
   "cell_type": "code",
   "execution_count": 48,
   "id": "1b2c1ad6",
   "metadata": {},
   "outputs": [],
   "source": [
    "# Load Dataset\n",
    "def load_images(folder):\n",
    "    images = []\n",
    "    labels = []\n",
    "    class_labels = {'cats': 0, 'dogs': 1}\n",
    "\n",
    "    for class_name in class_labels.keys():\n",
    "        class_folder = os.path.join(folder, class_name)\n",
    "        for filename in os.listdir(class_folder):\n",
    "            img_path = os.path.join(class_folder, filename)\n",
    "\n",
    "            # Load the image and check if it's not empty\n",
    "            img = cv2.imread(img_path)\n",
    "            if img is not None:\n",
    "                img = cv2.resize(img, (64, 64))  # Resize the image to a common size\n",
    "                images.append(img.flatten())  # Flatten the image array\n",
    "                labels.append(class_labels[class_name])  # Assign label 0 for cats, 1 for dogs\n",
    "\n",
    "    return np.array(images), np.array(labels)"
   ]
  },
  {
   "cell_type": "code",
   "execution_count": 49,
   "id": "f0d08bb8",
   "metadata": {},
   "outputs": [],
   "source": [
    "# Load and preprocess the dataset\n",
    "data_folder = r'C:\\Users\\Ayesha\\Desktop\\ML_tasks\\task2\\dataset'\n",
    "images, labels = load_images(data_folder)"
   ]
  },
  {
   "cell_type": "code",
   "execution_count": 50,
   "id": "a485805b",
   "metadata": {},
   "outputs": [
    {
     "name": "stdout",
     "output_type": "stream",
     "text": [
      "Unique Labels in Dataset: [0 1]\n"
     ]
    }
   ],
   "source": [
    "# Check unique labels in the dataset\n",
    "unique_labels = np.unique(labels)\n",
    "print(\"Unique Labels in Dataset:\", unique_labels)"
   ]
  },
  {
   "cell_type": "code",
   "execution_count": 51,
   "id": "b3f8c621",
   "metadata": {},
   "outputs": [],
   "source": [
    "if len(unique_labels) < 2:\n",
    "    raise ValueError(\"The dataset should contain at least two classes.\")"
   ]
  },
  {
   "cell_type": "code",
   "execution_count": 52,
   "id": "7b688589",
   "metadata": {},
   "outputs": [],
   "source": [
    "# Split the dataset into training and testing sets\n",
    "X_train, X_test, y_train, y_test = train_test_split(images, labels, test_size=0.2, random_state=42)"
   ]
  },
  {
   "cell_type": "code",
   "execution_count": 53,
   "id": "6f422217",
   "metadata": {},
   "outputs": [
    {
     "name": "stdout",
     "output_type": "stream",
     "text": [
      "Unique Labels in Training Set: [0 1]\n"
     ]
    }
   ],
   "source": [
    "# Check unique labels in the training set\n",
    "unique_labels_train = np.unique(y_train)\n",
    "print(\"Unique Labels in Training Set:\", unique_labels_train)"
   ]
  },
  {
   "cell_type": "code",
   "execution_count": 54,
   "id": "e62e2797",
   "metadata": {},
   "outputs": [],
   "source": [
    "if len(unique_labels_train) < 2:\n",
    "    raise ValueError(\"The training set should contain at least two classes.\")"
   ]
  },
  {
   "cell_type": "code",
   "execution_count": 55,
   "id": "f66a7eb0",
   "metadata": {},
   "outputs": [],
   "source": [
    "# Initialize SVM model\n",
    "svm_model = SVC(kernel='linear', C=1.0)\n",
    "\n",
    "# Train the SVM model\n",
    "svm_model.fit(X_train, y_train)\n",
    "\n",
    "# Make predictions on the test set\n",
    "y_pred = svm_model.predict(X_test)"
   ]
  },
  {
   "cell_type": "code",
   "execution_count": 56,
   "id": "58e6add3",
   "metadata": {},
   "outputs": [
    {
     "name": "stdout",
     "output_type": "stream",
     "text": [
      "Accuracy: 57.00%\n"
     ]
    }
   ],
   "source": [
    "# Evaluate the accuracy\n",
    "accuracy = accuracy_score(y_test, y_pred)\n",
    "print(f\"Accuracy: {accuracy * 100:.2f}%\")"
   ]
  },
  {
   "cell_type": "code",
   "execution_count": 57,
   "id": "48bc60b9",
   "metadata": {},
   "outputs": [
    {
     "name": "stdout",
     "output_type": "stream",
     "text": [
      "Shape of y_test: (400,)\n",
      "Shape of y_pred: (400,)\n"
     ]
    }
   ],
   "source": [
    "# Check the shapes of y_test and y_pred\n",
    "print(\"Shape of y_test:\", y_test.shape)\n",
    "print(\"Shape of y_pred:\", y_pred.shape)"
   ]
  },
  {
   "cell_type": "code",
   "execution_count": 61,
   "id": "323bd414",
   "metadata": {},
   "outputs": [
    {
     "name": "stdout",
     "output_type": "stream",
     "text": [
      "(1596, 12288) (400, 12288) (1596,) (400,)\n"
     ]
    }
   ],
   "source": [
    "# Check the shapes of y_test and y_pred\n",
    "print(X_train.shape, X_test.shape, y_train.shape, y_test.shape)"
   ]
  },
  {
   "cell_type": "code",
   "execution_count": 58,
   "id": "688b5b47",
   "metadata": {},
   "outputs": [],
   "source": [
    "from sklearn import metrics\n",
    "confusion_matrix = metrics.confusion_matrix(y_test, y_pred)"
   ]
  },
  {
   "cell_type": "code",
   "execution_count": 59,
   "id": "2c4dde26",
   "metadata": {},
   "outputs": [
    {
     "data": {
      "image/png": "[encoded data removed]",
      "text/plain": [
       "<Figure size 576x432 with 2 Axes>"
      ]
     },
     "metadata": {
      "needs_background": "light"
     },
     "output_type": "display_data"
    }
   ],
   "source": [
    "\n",
    "# Plot the confusion matrix as a heatmap\n",
    "plt.figure(figsize=(8, 6))\n",
    "sns.heatmap(confusion_matrix, annot=True, fmt='d', cmap='Blues', xticklabels=['Cat', 'Dog'], yticklabels=['Cat', 'Dog'])\n",
    "plt.title('Confusion Matrix')\n",
    "plt.xlabel('Predicted Label')\n",
    "plt.ylabel('True Label')\n",
    "plt.show()"
   ]
  },
  {
   "cell_type": "code",
   "execution_count": null,
   "id": "954eb28d",
   "metadata": {},
   "outputs": [],
   "source": []
  }
 ],
 "metadata": {
  "kernelspec": {
   "display_name": "Python 3 (ipykernel)",
   "language": "python",
   "name": "python3"
  },
  "language_info": {
   "codemirror_mode": {
    "name": "ipython",
    "version": 3
   },
   "file_extension": ".py",
   "mimetype": "text/x-python",
   "name": "python",
   "nbconvert_exporter": "python",
   "pygments_lexer": "ipython3",
   "version": "3.9.7"
  }
 },
 "nbformat": 4,
 "nbformat_minor": 5
}

{
 "cells": [
  {
   "cell_type": "code",
   "execution_count": 20,
   "id": "92959d2d",
   "metadata": {},
   "outputs": [],
   "source": [
    "import torch\n",
    "import torch.nn as nn\n",
    "import torch.optim as optim\n",
    "from torch.utils.data import DataLoader\n",
    "from torchvision import transforms\n",
    "from torchvision.models import resnet18\n",
    "from sklearn.metrics import accuracy_score\n",
    "from PIL import Image"
   ]
  },
  {
   "cell_type": "code",
   "execution_count": 15,
   "id": "e8a13a15",
   "metadata": {},
   "outputs": [],
   "source": [
    "# Custom Dataset Class\n",
    "class EyesDataset(Dataset):\n",
    "    def __init__(self, root_dir, transform=None):\n",
    "        self.root_dir = root_dir\n",
    "        self.transform = transform\n",
    "        self.classes = ['noneyes', 'eyes']\n",
    "        self.data = []\n",
    "\n",
    "        for i, cls in enumerate(self.classes):\n",
    "            class_dir = os.path.join(root_dir, cls)\n",
    "            for filename in os.listdir(class_dir):\n",
    "                filepath = os.path.join(class_dir, filename)\n",
    "                self.data.append((filepath, i))\n",
    "\n",
    "    def __len__(self):\n",
    "        return len(self.data)\n",
    "\n",
    "    def __getitem__(self, idx):\n",
    "        image_path, label = self.data[idx]\n",
    "        image = Image.open(image_path).convert('RGB')\n",
    "\n",
    "        if self.transform:\n",
    "            image = self.transform(image)\n",
    "\n",
    "        return image, label"
   ]
  },
  {
   "cell_type": "code",
   "execution_count": 21,
   "id": "34283004",
   "metadata": {},
   "outputs": [],
   "source": [
    "# Define a simpler model\n",
    "class SimpleCNN(nn.Module):\n",
    "    def __init__(self, num_classes):\n",
    "        super(SimpleCNN, self).__init__()\n",
    "        self.conv1 = nn.Conv2d(3, 16, kernel_size=3, stride=1, padding=1)\n",
    "        self.relu = nn.ReLU()\n",
    "        self.pool = nn.MaxPool2d(kernel_size=2, stride=2)\n",
    "        self.fc1 = nn.Linear(16 * 112 * 112, num_classes)\n",
    "\n",
    "    def forward(self, x):\n",
    "        x = self.conv1(x)\n",
    "        x = self.relu(x)\n",
    "        x = self.pool(x)\n",
    "        x = x.view(x.size(0), -1)\n",
    "        x = self.fc1(x)\n",
    "        return x"
   ]
  },
  {
   "cell_type": "code",
   "execution_count": 23,
   "id": "4dd9d5d7",
   "metadata": {},
   "outputs": [],
   "source": [
    "# Create datasets and dataloaders\n",
    "transform = transforms.Compose([\n",
    "    transforms.Resize((224, 224)),\n",
    "    transforms.ToTensor(),\n",
    "    transforms.Normalize(mean=[0.485, 0.456, 0.406], std=[0.229, 0.224, 0.225]),\n",
    "])"
   ]
  },
  {
   "cell_type": "code",
   "execution_count": 24,
   "id": "4cdb45bc",
   "metadata": {},
   "outputs": [],
   "source": [
    "# Create datasets and dataloaders\n",
    "train_dataset = EyesDataset(root_dir=r'C:\\Users\\Ayesha\\Desktop\\Object Detection using Pytorch\\Linear Regression using pytorch\\dataset\\train', transform=transform)\n",
    "val_dataset = EyesDataset(root_dir=r'C:\\Users\\Ayesha\\Desktop\\Object Detection using Pytorch\\Linear Regression using pytorch\\dataset\\val', transform=transform)"
   ]
  },
  {
   "cell_type": "code",
   "execution_count": 29,
   "id": "cc7a2a25",
   "metadata": {},
   "outputs": [],
   "source": [
    "train_loader = DataLoader(train_dataset, batch_size=32, shuffle=True, num_workers=0)\n",
    "val_loader = DataLoader(val_dataset, batch_size=32, shuffle=False, num_workers=0)"
   ]
  },
  {
   "cell_type": "code",
   "execution_count": 26,
   "id": "6c302944",
   "metadata": {},
   "outputs": [],
   "source": [
    "# Initialize the model\n",
    "num_classes = len(train_dataset.classes)\n",
    "model = SimpleCNN(num_classes=num_classes)"
   ]
  },
  {
   "cell_type": "code",
   "execution_count": 27,
   "id": "801ab424",
   "metadata": {},
   "outputs": [],
   "source": [
    "# Loss function and optimizer\n",
    "criterion = nn.CrossEntropyLoss()\n",
    "optimizer = optim.Adam(model.parameters(), lr=0.001)"
   ]
  },
  {
   "cell_type": "code",
   "execution_count": 30,
   "id": "93ee0ef0",
   "metadata": {},
   "outputs": [],
   "source": [
    "# Training loop\n",
    "num_epochs = 5\n",
    "\n",
    "for epoch in range(num_epochs):\n",
    "    model.train()\n",
    "    for images, labels in train_loader:\n",
    "        optimizer.zero_grad()\n",
    "        outputs = model(images)\n",
    "        loss = criterion(outputs, labels)\n",
    "        loss.backward()\n",
    "        optimizer.step()"
   ]
  },
  {
   "cell_type": "code",
   "execution_count": 31,
   "id": "bba71664",
   "metadata": {},
   "outputs": [],
   "source": [
    "# Validation loop\n",
    "model.eval()\n",
    "all_preds = []\n",
    "all_labels = []"
   ]
  },
  {
   "cell_type": "code",
   "execution_count": 33,
   "id": "5664efbc",
   "metadata": {},
   "outputs": [],
   "source": [
    "with torch.no_grad():\n",
    "    for images, labels in val_loader:\n",
    "        outputs = model(images)\n",
    "        _, preds = torch.max(outputs, 1)\n",
    "        all_preds.extend(preds.numpy())\n",
    "        all_labels.extend(labels.numpy())\n"
   ]
  },
  {
   "cell_type": "code",
   "execution_count": 34,
   "id": "51949e71",
   "metadata": {},
   "outputs": [
    {
     "name": "stdout",
     "output_type": "stream",
     "text": [
      "Validation Accuracy: 0.9825\n"
     ]
    }
   ],
   "source": [
    "# Calculate accuracy\n",
    "accuracy = accuracy_score(all_labels, all_preds)\n",
    "print(f'Validation Accuracy: {accuracy:.4f}')"
   ]
  },
  {
   "cell_type": "code",
   "execution_count": 36,
   "id": "112957dd",
   "metadata": {},
   "outputs": [],
   "source": [
    "def preprocess_image(image_path):\n",
    "    img = Image.open(image_path).convert('RGB')\n",
    "    img = transform(img)\n",
    "    img = img.unsqueeze(0)  \n",
    "    return img"
   ]
  },
  {
   "cell_type": "code",
   "execution_count": 37,
   "id": "e1b756b0",
   "metadata": {},
   "outputs": [],
   "source": [
    "def predict_image(model, image_path):\n",
    "    img = preprocess_image(image_path)\n",
    "    with torch.no_grad():\n",
    "        outputs = model(img)\n",
    "    _, predicted_class = torch.max(outputs, 1)\n",
    "    return predicted_class.item()\n"
   ]
  },
  {
   "cell_type": "code",
   "execution_count": 41,
   "id": "7b8957a8",
   "metadata": {},
   "outputs": [
    {
     "name": "stdout",
     "output_type": "stream",
     "text": [
      "Predicted class: Eye\n"
     ]
    }
   ],
   "source": [
    "sample_image_path = r'C:\\Users\\Ayesha\\Desktop\\Object Detection using Pytorch\\Linear Regression using pytorch\\eyes-test.jpg'\n",
    "predicted_class = predict_image(model, sample_image_path)\n",
    "\n",
    "if predicted_class == 0:\n",
    "    print(\"Predicted class: Non-eye\")\n",
    "else:\n",
    "    print(\"Predicted class: Eye\")\n"
   ]
  },
  {
   "cell_type": "code",
   "execution_count": 47,
   "id": "0d008ac5",
   "metadata": {},
   "outputs": [
    {
     "name": "stdout",
     "output_type": "stream",
     "text": [
      "Predicted class: Non-eye\n"
     ]
    }
   ],
   "source": [
    "sample_image_path = r'C:\\Users\\Ayesha\\Desktop\\Object Detection using Pytorch\\Linear Regression using pytorch\\dataset\\val\\noneyes\\025.png'\n",
    "predicted_class = predict_image(model, sample_image_path)\n",
    "\n",
    "if predicted_class == 0:\n",
    "    print(\"Predicted class: Non-eye\")\n",
    "else:\n",
    "    print(\"Predicted class: Eye\")\n"
   ]
  },
  {
   "cell_type": "code",
   "execution_count": null,
   "id": "b5102e35",
   "metadata": {},
   "outputs": [],
   "source": []
  }
 ],
 "metadata": {
  "kernelspec": {
   "display_name": "Python 3 (ipykernel)",
   "language": "python",
   "name": "python3"
  },
  "language_info": {
   "codemirror_mode": {
    "name": "ipython",
    "version": 3
   },
   "file_extension": ".py",
   "mimetype": "text/x-python",
   "name": "python",
   "nbconvert_exporter": "python",
   "pygments_lexer": "ipython3",
   "version": "3.9.7"
  }
 },
 "nbformat": 4,
 "nbformat_minor": 5
}
